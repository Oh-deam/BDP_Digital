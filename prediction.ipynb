{
 "cells": [
  {
   "cell_type": "code",
   "execution_count": 1,
   "id": "c52d410a",
   "metadata": {},
   "outputs": [],
   "source": [
    "import joblib"
   ]
  },
  {
   "cell_type": "code",
   "execution_count": 2,
   "id": "079eb1f9",
   "metadata": {},
   "outputs": [
    {
     "name": "stdout",
     "output_type": "stream",
     "text": [
      "личный водитель на день\n"
     ]
    }
   ],
   "source": [
    "query = input()"
   ]
  },
  {
   "cell_type": "code",
   "execution_count": 9,
   "id": "ad70cc5d",
   "metadata": {},
   "outputs": [],
   "source": [
    "employment_model = joblib.load('employment_model.pkl')\n",
    "position_model = joblib.load('position_model.pkl')\n",
    "additance_model = joblib.load('additance_model.pkl')\n",
    "conditions_model = joblib.load('conditions_model.pkl')\n",
    "phrase_model = joblib.load('phrase_model.pkl')"
   ]
  },
  {
   "cell_type": "code",
   "execution_count": 10,
   "id": "cb2a9edb",
   "metadata": {},
   "outputs": [],
   "source": [
    "vectorizer = joblib.load('employment_vectorizer.pkl')"
   ]
  },
  {
   "cell_type": "code",
   "execution_count": 11,
   "id": "87d43af8",
   "metadata": {},
   "outputs": [],
   "source": [
    "def clusters_predict(query):\n",
    "    query = vectorizer.transform([query])\n",
    "    \n",
    "    employment_pred = employment_model.predict(query[0])\n",
    "    position_pred = position_model.predict(query[0])\n",
    "    additance_pred = additance_model.predict(query[0])\n",
    "    conditions_pred = conditions_model.predict(query[0])\n",
    "    phrase_pred = employment_model.predict(query[0])\n",
    "    \n",
    "    result = {\n",
    "        'занятость': employment_pred[0],\n",
    "        'должнось': position_pred[0],\n",
    "        'дополнительно': additance_pred[0],\n",
    "        'условия': conditions_pred[0],\n",
    "        'фраза': phrase_pred[0]\n",
    "    }\n",
    "    \n",
    "    return result"
   ]
  },
  {
   "cell_type": "code",
   "execution_count": 12,
   "id": "cb6d04ac",
   "metadata": {},
   "outputs": [],
   "source": [
    "clusters = clusters_predict(query)"
   ]
  },
  {
   "cell_type": "code",
   "execution_count": 13,
   "id": "932a19d2",
   "metadata": {},
   "outputs": [
    {
     "name": "stdout",
     "output_type": "stream",
     "text": [
      "{'занятость': 36, 'должнось': 37, 'дополнительно': 18, 'условия': 2, 'фраза': 36}\n"
     ]
    }
   ],
   "source": [
    "print(clusters)"
   ]
  },
  {
   "cell_type": "code",
   "execution_count": null,
   "id": "c1f7bdde",
   "metadata": {},
   "outputs": [],
   "source": []
  }
 ],
 "metadata": {
  "kernelspec": {
   "display_name": "Python 3 (ipykernel)",
   "language": "python",
   "name": "python3"
  },
  "language_info": {
   "codemirror_mode": {
    "name": "ipython",
    "version": 3
   },
   "file_extension": ".py",
   "mimetype": "text/x-python",
   "name": "python",
   "nbconvert_exporter": "python",
   "pygments_lexer": "ipython3",
   "version": "3.11.5"
  }
 },
 "nbformat": 4,
 "nbformat_minor": 5
}
