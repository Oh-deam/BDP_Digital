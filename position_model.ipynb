{
 "cells": [
  {
   "cell_type": "code",
   "execution_count": 23,
   "id": "ae09869d",
   "metadata": {},
   "outputs": [],
   "source": [
    "import pandas as pd\n",
    "from sklearn.preprocessing import LabelEncoder\n",
    "from sklearn.feature_extraction.text import TfidfVectorizer\n",
    "from sklearn.model_selection import train_test_split\n",
    "from sklearn.linear_model import LogisticRegression\n",
    "from sklearn.metrics import classification_report\n",
    "from sklearn.metrics import confusion_matrix\n",
    "import joblib"
   ]
  },
  {
   "cell_type": "code",
   "execution_count": 24,
   "id": "dfee1b79",
   "metadata": {},
   "outputs": [],
   "source": [
    "queries_df = pd.read_csv('dataset_users_query.csv')\n",
    "answers_df = pd.read_csv('answers.csv')\n",
    "\n",
    "queries_df['query'] = queries_df['query'].str.lower().str.strip()\n",
    "answers_df['query'] = answers_df['query'].str.lower().str.strip()\n",
    "\n",
    "employment_df = answers_df.drop(['Unnamed: 0', 'по должности-лемме', 'по дополнительному признаку', 'по условиям', 'общие фразы'], axis = 1)\n",
    "position_df = answers_df.drop(['Unnamed: 0', 'занятость', 'по дополнительному признаку', 'по условиям', 'общие фразы'], axis = 1)\n",
    "additance_df = answers_df.drop(['Unnamed: 0', 'занятость', 'по должности-лемме', 'по условиям', 'общие фразы'], axis = 1)\n",
    "conditions_df = answers_df.drop(['Unnamed: 0', 'занятость', 'по должности-лемме', 'по дополнительному признаку', 'общие фразы'], axis = 1)\n",
    "phrase_df = answers_df.drop(['Unnamed: 0', 'занятость', 'по должности-лемме', 'по дополнительному признаку', 'по условиям'], axis = 1)"
   ]
  },
  {
   "cell_type": "code",
   "execution_count": 25,
   "id": "cf8b6605",
   "metadata": {},
   "outputs": [],
   "source": [
    "employment_keywords = list(answers_df['занятость'].unique()[1:])\n",
    "position_keywords = list(answers_df['по должности-лемме'].unique()[1:])\n",
    "additance_keywords = list(answers_df['по дополнительному признаку'].unique()[1:])\n",
    "conditions_keywords = list(answers_df['по условиям'].unique()[1:])\n",
    "common_phrases = ['работа', 'вакансии']"
   ]
  },
  {
   "cell_type": "code",
   "execution_count": 26,
   "id": "2745141e",
   "metadata": {},
   "outputs": [],
   "source": [
    "encoder = LabelEncoder()\n",
    "\n",
    "position_df['category_encoded'] = encoder.fit_transform(position_df['по должности-лемме'])"
   ]
  },
  {
   "cell_type": "code",
   "execution_count": 27,
   "id": "1f8c7641",
   "metadata": {},
   "outputs": [],
   "source": [
    "label_dict = {i: class_name for i, class_name in enumerate(encoder.classes_)}"
   ]
  },
  {
   "cell_type": "code",
   "execution_count": 28,
   "id": "c384bdbe",
   "metadata": {},
   "outputs": [],
   "source": [
    "vectorizer = TfidfVectorizer(max_features=5000)\n",
    "\n",
    "X = vectorizer.fit_transform(position_df['query'])\n",
    "y = position_df['category_encoded']\n",
    "\n",
    "X_train, X_test, y_train, y_test = train_test_split(X, y, test_size=0.2, random_state=42)"
   ]
  },
  {
   "cell_type": "code",
   "execution_count": 29,
   "id": "a797c27e",
   "metadata": {},
   "outputs": [
    {
     "data": {
      "text/html": [
       "<style>#sk-container-id-3 {color: black;}#sk-container-id-3 pre{padding: 0;}#sk-container-id-3 div.sk-toggleable {background-color: white;}#sk-container-id-3 label.sk-toggleable__label {cursor: pointer;display: block;width: 100%;margin-bottom: 0;padding: 0.3em;box-sizing: border-box;text-align: center;}#sk-container-id-3 label.sk-toggleable__label-arrow:before {content: \"▸\";float: left;margin-right: 0.25em;color: #696969;}#sk-container-id-3 label.sk-toggleable__label-arrow:hover:before {color: black;}#sk-container-id-3 div.sk-estimator:hover label.sk-toggleable__label-arrow:before {color: black;}#sk-container-id-3 div.sk-toggleable__content {max-height: 0;max-width: 0;overflow: hidden;text-align: left;background-color: #f0f8ff;}#sk-container-id-3 div.sk-toggleable__content pre {margin: 0.2em;color: black;border-radius: 0.25em;background-color: #f0f8ff;}#sk-container-id-3 input.sk-toggleable__control:checked~div.sk-toggleable__content {max-height: 200px;max-width: 100%;overflow: auto;}#sk-container-id-3 input.sk-toggleable__control:checked~label.sk-toggleable__label-arrow:before {content: \"▾\";}#sk-container-id-3 div.sk-estimator input.sk-toggleable__control:checked~label.sk-toggleable__label {background-color: #d4ebff;}#sk-container-id-3 div.sk-label input.sk-toggleable__control:checked~label.sk-toggleable__label {background-color: #d4ebff;}#sk-container-id-3 input.sk-hidden--visually {border: 0;clip: rect(1px 1px 1px 1px);clip: rect(1px, 1px, 1px, 1px);height: 1px;margin: -1px;overflow: hidden;padding: 0;position: absolute;width: 1px;}#sk-container-id-3 div.sk-estimator {font-family: monospace;background-color: #f0f8ff;border: 1px dotted black;border-radius: 0.25em;box-sizing: border-box;margin-bottom: 0.5em;}#sk-container-id-3 div.sk-estimator:hover {background-color: #d4ebff;}#sk-container-id-3 div.sk-parallel-item::after {content: \"\";width: 100%;border-bottom: 1px solid gray;flex-grow: 1;}#sk-container-id-3 div.sk-label:hover label.sk-toggleable__label {background-color: #d4ebff;}#sk-container-id-3 div.sk-serial::before {content: \"\";position: absolute;border-left: 1px solid gray;box-sizing: border-box;top: 0;bottom: 0;left: 50%;z-index: 0;}#sk-container-id-3 div.sk-serial {display: flex;flex-direction: column;align-items: center;background-color: white;padding-right: 0.2em;padding-left: 0.2em;position: relative;}#sk-container-id-3 div.sk-item {position: relative;z-index: 1;}#sk-container-id-3 div.sk-parallel {display: flex;align-items: stretch;justify-content: center;background-color: white;position: relative;}#sk-container-id-3 div.sk-item::before, #sk-container-id-3 div.sk-parallel-item::before {content: \"\";position: absolute;border-left: 1px solid gray;box-sizing: border-box;top: 0;bottom: 0;left: 50%;z-index: -1;}#sk-container-id-3 div.sk-parallel-item {display: flex;flex-direction: column;z-index: 1;position: relative;background-color: white;}#sk-container-id-3 div.sk-parallel-item:first-child::after {align-self: flex-end;width: 50%;}#sk-container-id-3 div.sk-parallel-item:last-child::after {align-self: flex-start;width: 50%;}#sk-container-id-3 div.sk-parallel-item:only-child::after {width: 0;}#sk-container-id-3 div.sk-dashed-wrapped {border: 1px dashed gray;margin: 0 0.4em 0.5em 0.4em;box-sizing: border-box;padding-bottom: 0.4em;background-color: white;}#sk-container-id-3 div.sk-label label {font-family: monospace;font-weight: bold;display: inline-block;line-height: 1.2em;}#sk-container-id-3 div.sk-label-container {text-align: center;}#sk-container-id-3 div.sk-container {/* jupyter's `normalize.less` sets `[hidden] { display: none; }` but bootstrap.min.css set `[hidden] { display: none !important; }` so we also need the `!important` here to be able to override the default hidden behavior on the sphinx rendered scikit-learn.org. See: https://github.com/scikit-learn/scikit-learn/issues/21755 */display: inline-block !important;position: relative;}#sk-container-id-3 div.sk-text-repr-fallback {display: none;}</style><div id=\"sk-container-id-3\" class=\"sk-top-container\"><div class=\"sk-text-repr-fallback\"><pre>LogisticRegression(max_iter=1000)</pre><b>In a Jupyter environment, please rerun this cell to show the HTML representation or trust the notebook. <br />On GitHub, the HTML representation is unable to render, please try loading this page with nbviewer.org.</b></div><div class=\"sk-container\" hidden><div class=\"sk-item\"><div class=\"sk-estimator sk-toggleable\"><input class=\"sk-toggleable__control sk-hidden--visually\" id=\"sk-estimator-id-3\" type=\"checkbox\" checked><label for=\"sk-estimator-id-3\" class=\"sk-toggleable__label sk-toggleable__label-arrow\">LogisticRegression</label><div class=\"sk-toggleable__content\"><pre>LogisticRegression(max_iter=1000)</pre></div></div></div></div></div>"
      ],
      "text/plain": [
       "LogisticRegression(max_iter=1000)"
      ]
     },
     "execution_count": 29,
     "metadata": {},
     "output_type": "execute_result"
    }
   ],
   "source": [
    "model_query = LogisticRegression(max_iter=1000)\n",
    "model_query.fit(X_train, y_train)"
   ]
  },
  {
   "cell_type": "code",
   "execution_count": 30,
   "id": "e3107f9b",
   "metadata": {},
   "outputs": [],
   "source": [
    "y_pred = model_query.predict(X_test)"
   ]
  },
  {
   "cell_type": "code",
   "execution_count": 31,
   "id": "e6a9243d",
   "metadata": {},
   "outputs": [
    {
     "name": "stdout",
     "output_type": "stream",
     "text": [
      "              precision    recall  f1-score   support\n",
      "\n",
      "           2       0.00      0.00      0.00         2\n",
      "           3       0.00      0.00      0.00         3\n",
      "           4       1.00      0.33      0.50         9\n",
      "           6       0.00      0.00      0.00         1\n",
      "           7       1.00      0.79      0.88        24\n",
      "           8       0.00      0.00      0.00         2\n",
      "           9       1.00      0.25      0.40         4\n",
      "          10       0.00      0.00      0.00         3\n",
      "          11       0.00      0.00      0.00         1\n",
      "          13       1.00      0.75      0.86         8\n",
      "          14       0.00      0.00      0.00         1\n",
      "          15       1.00      0.20      0.33         5\n",
      "          16       1.00      0.80      0.89         5\n",
      "          17       0.00      0.00      0.00         1\n",
      "          18       1.00      0.17      0.29         6\n",
      "          19       0.00      0.00      0.00         1\n",
      "          20       0.00      0.00      0.00         3\n",
      "          21       0.00      0.00      0.00         7\n",
      "          23       0.00      0.00      0.00         1\n",
      "          25       1.00      0.38      0.56        13\n",
      "          27       0.00      0.00      0.00         4\n",
      "          28       0.00      0.00      0.00         2\n",
      "          29       0.00      0.00      0.00         1\n",
      "          30       0.00      0.00      0.00         2\n",
      "          33       0.62      0.78      0.69        37\n",
      "          35       0.00      0.00      0.00         4\n",
      "          36       0.00      0.00      0.00         3\n",
      "          37       0.95      0.98      0.97       185\n",
      "          38       0.00      0.00      0.00         2\n",
      "          39       0.00      0.00      0.00         1\n",
      "          40       0.00      0.00      0.00         2\n",
      "          41       0.00      0.00      0.00         6\n",
      "          42       0.96      0.78      0.86        32\n",
      "          43       0.00      0.00      0.00         2\n",
      "          44       0.00      0.00      0.00         5\n",
      "          45       0.00      0.00      0.00         1\n",
      "          46       0.00      0.00      0.00         4\n",
      "          47       0.00      0.00      0.00         2\n",
      "          49       0.00      0.00      0.00         1\n",
      "          50       0.94      0.90      0.92        50\n",
      "          51       0.00      0.00      0.00         1\n",
      "          52       1.00      0.25      0.40         8\n",
      "          56       0.00      0.00      0.00         2\n",
      "          58       0.00      0.00      0.00         3\n",
      "          59       0.00      0.00      0.00         3\n",
      "          61       1.00      0.82      0.90        22\n",
      "          62       0.00      0.00      0.00         1\n",
      "          63       1.00      0.83      0.91         6\n",
      "          64       1.00      1.00      1.00         3\n",
      "          65       0.00      0.00      0.00         2\n",
      "          69       1.00      1.00      1.00         3\n",
      "          74       0.00      0.00      0.00         1\n",
      "          75       0.00      0.00      0.00         2\n",
      "          77       0.00      0.00      0.00         1\n",
      "          78       1.00      0.50      0.67         2\n",
      "          79       0.00      0.00      0.00         3\n",
      "          82       1.00      0.50      0.67        16\n",
      "          83       0.00      0.00      0.00         5\n",
      "          84       0.96      0.92      0.94        24\n",
      "          85       0.00      0.00      0.00         1\n",
      "          86       0.00      0.00      0.00         1\n",
      "          87       1.00      0.73      0.84        11\n",
      "          89       0.00      0.00      0.00         1\n",
      "          90       0.00      0.00      0.00         1\n",
      "          91       0.00      0.00      0.00         1\n",
      "          92       0.00      0.00      0.00         3\n",
      "          93       0.00      0.00      0.00         1\n",
      "          94       0.00      0.00      0.00         1\n",
      "          95       0.00      0.00      0.00         4\n",
      "          96       1.00      0.89      0.94        38\n",
      "          97       0.00      0.00      0.00         2\n",
      "          99       1.00      0.33      0.50         9\n",
      "         100       0.00      0.00      0.00         3\n",
      "         102       0.00      0.00      0.00         4\n",
      "         103       0.00      0.00      0.00         4\n",
      "         104       0.00      0.00      0.00         2\n",
      "         105       0.00      0.00      0.00         1\n",
      "         107       1.00      0.33      0.50         6\n",
      "         111       1.00      0.29      0.44         7\n",
      "         112       0.00      0.00      0.00         1\n",
      "         113       0.00      0.00      0.00         1\n",
      "         114       0.00      0.00      0.00         2\n",
      "         115       0.00      0.00      0.00         1\n",
      "         116       0.00      0.00      0.00         3\n",
      "         118       0.00      0.00      0.00         1\n",
      "         119       1.00      0.91      0.95        96\n",
      "         120       1.00      0.75      0.86        12\n",
      "         121       0.00      0.00      0.00         1\n",
      "         122       0.00      0.00      0.00         1\n",
      "         123       1.00      0.50      0.67         6\n",
      "         124       1.00      0.67      0.80        12\n",
      "         125       0.00      0.00      0.00         3\n",
      "         127       1.00      0.67      0.80        12\n",
      "         129       0.00      0.00      0.00         3\n",
      "         130       1.00      0.50      0.67         2\n",
      "         131       0.00      0.00      0.00         1\n",
      "         132       1.00      0.67      0.80         6\n",
      "         133       1.00      0.95      0.97        19\n",
      "         134       0.00      0.00      0.00         3\n",
      "         135       1.00      0.86      0.93        22\n",
      "         136       1.00      0.92      0.96        13\n",
      "         137       0.00      0.00      0.00         3\n",
      "         141       0.89      0.62      0.73        13\n",
      "         143       0.00      0.00      0.00         5\n",
      "         145       1.00      0.95      0.98        44\n",
      "         146       0.00      0.00      0.00         4\n",
      "         147       0.93      0.57      0.70        23\n",
      "         148       0.00      0.00      0.00         1\n",
      "         149       1.00      0.50      0.67         4\n",
      "         152       0.00      0.00      0.00         3\n",
      "         153       0.00      0.00      0.00         3\n",
      "         154       1.00      0.71      0.83        14\n",
      "         156       0.00      0.00      0.00         2\n",
      "         158       0.00      0.00      0.00         1\n",
      "         162       0.00      0.00      0.00         1\n",
      "         165       0.00      0.00      0.00         5\n",
      "         166       0.00      0.00      0.00         1\n",
      "         169       0.91      0.67      0.77        30\n",
      "         170       1.00      0.20      0.33        10\n",
      "         171       0.75      0.50      0.60         6\n",
      "         172       0.00      0.00      0.00         1\n",
      "         173       1.00      0.60      0.75         5\n",
      "         174       0.00      0.00      0.00         2\n",
      "         175       1.00      0.70      0.82        10\n",
      "         177       0.00      0.00      0.00         1\n",
      "         178       1.00      0.79      0.88        14\n",
      "         179       0.00      0.00      0.00         2\n",
      "         180       0.00      0.00      0.00         9\n",
      "         181       1.00      0.50      0.67         8\n",
      "         183       0.00      0.00      0.00         4\n",
      "         185       0.00      0.00      0.00         3\n",
      "         186       0.98      0.94      0.96        52\n",
      "         187       0.00      0.00      0.00         2\n",
      "         190       1.00      0.75      0.86        20\n",
      "         193       1.00      0.40      0.57         5\n",
      "         194       1.00      1.00      1.00         9\n",
      "         195       1.00      0.17      0.29         6\n",
      "         196       0.00      0.00      0.00         2\n",
      "         197       0.00      0.00      0.00         1\n",
      "         198       0.00      0.00      0.00         3\n",
      "         199       0.00      0.00      0.00         3\n",
      "         200       1.00      0.83      0.91         6\n",
      "         202       0.78      0.52      0.62        27\n",
      "         206       0.00      0.00      0.00         1\n",
      "         208       0.00      0.00      0.00         1\n",
      "         209       0.00      0.00      0.00         2\n",
      "         212       1.00      0.50      0.67         2\n",
      "         213       1.00      0.53      0.70        15\n",
      "         215       0.00      0.00      0.00         2\n",
      "         216       1.00      0.50      0.67         2\n",
      "         217       0.00      0.00      0.00         4\n",
      "         219       0.89      0.57      0.70        14\n",
      "         220       0.91      0.74      0.82        27\n",
      "         221       0.00      0.00      0.00         1\n",
      "         222       1.00      0.43      0.60         7\n",
      "         224       0.00      0.00      0.00         2\n",
      "         225       0.00      0.00      0.00         1\n",
      "         226       0.00      0.00      0.00         2\n",
      "         227       1.00      0.90      0.95        30\n",
      "         228       0.00      0.00      0.00         5\n",
      "         229       1.00      0.75      0.86         4\n",
      "         230       0.00      0.00      0.00         1\n",
      "         231       0.00      0.00      0.00         1\n",
      "         232       0.00      0.00      0.00         2\n",
      "         233       1.00      1.00      1.00        27\n",
      "         234       0.00      0.00      0.00         3\n",
      "         235       0.00      0.00      0.00         1\n",
      "         236       0.00      0.00      0.00         1\n",
      "         238       0.00      0.00      0.00         1\n",
      "         239       1.00      0.20      0.33         5\n",
      "         240       1.00      0.50      0.67        10\n",
      "         242       0.00      0.00      0.00         1\n",
      "         243       0.00      0.00      0.00         2\n",
      "         244       0.00      0.00      0.00         1\n",
      "         247       0.00      0.00      0.00         1\n",
      "         248       0.00      0.00      0.00         1\n",
      "         249       0.00      0.00      0.00         2\n",
      "         250       0.00      0.00      0.00         1\n",
      "         253       1.00      0.17      0.29         6\n",
      "         255       1.00      0.44      0.62         9\n",
      "         258       1.00      0.86      0.92        28\n",
      "         259       0.94      0.57      0.71        30\n",
      "         260       0.00      0.00      0.00         1\n",
      "         261       0.00      0.00      0.00         2\n",
      "         262       1.00      0.33      0.50         3\n",
      "         263       0.00      0.00      0.00         1\n",
      "         264       1.00      0.67      0.80        15\n",
      "         265       0.00      0.00      0.00         4\n",
      "         266       0.00      0.00      0.00         2\n",
      "         267       0.00      0.00      0.00         3\n",
      "         269       0.00      0.00      0.00         1\n",
      "         270       0.00      0.00      0.00         2\n",
      "         271       0.00      0.00      0.00         2\n",
      "         272       1.00      0.71      0.83         7\n",
      "         273       0.00      0.00      0.00         1\n",
      "         274       0.00      0.00      0.00         2\n",
      "         275       0.00      0.00      0.00         3\n",
      "         276       0.00      0.00      0.00         2\n",
      "         277       1.00      0.20      0.33         5\n",
      "         280       1.00      0.70      0.82        10\n",
      "         284       0.33      1.00      0.50         1\n",
      "         285       0.00      0.00      0.00         2\n",
      "         286       0.00      0.00      0.00         3\n",
      "         287       0.00      0.00      0.00         6\n",
      "         288       1.00      0.40      0.57        10\n",
      "         290       1.00      0.75      0.86         4\n",
      "         291       0.00      0.00      0.00         3\n",
      "         292       1.00      0.46      0.63        13\n",
      "         293       0.00      0.00      0.00         1\n",
      "         294       0.00      0.00      0.00         1\n",
      "         296       1.00      0.76      0.86        25\n",
      "         297       0.68      1.00      0.81      1214\n",
      "\n",
      "    accuracy                           0.79      2849\n",
      "   macro avg       0.37      0.24      0.27      2849\n",
      "weighted avg       0.75      0.79      0.74      2849\n",
      "\n"
     ]
    },
    {
     "name": "stderr",
     "output_type": "stream",
     "text": [
      "C:\\ProgramData\\anaconda3\\Lib\\site-packages\\sklearn\\metrics\\_classification.py:1469: UndefinedMetricWarning: Precision and F-score are ill-defined and being set to 0.0 in labels with no predicted samples. Use `zero_division` parameter to control this behavior.\n",
      "  _warn_prf(average, modifier, msg_start, len(result))\n",
      "C:\\ProgramData\\anaconda3\\Lib\\site-packages\\sklearn\\metrics\\_classification.py:1469: UndefinedMetricWarning: Precision and F-score are ill-defined and being set to 0.0 in labels with no predicted samples. Use `zero_division` parameter to control this behavior.\n",
      "  _warn_prf(average, modifier, msg_start, len(result))\n",
      "C:\\ProgramData\\anaconda3\\Lib\\site-packages\\sklearn\\metrics\\_classification.py:1469: UndefinedMetricWarning: Precision and F-score are ill-defined and being set to 0.0 in labels with no predicted samples. Use `zero_division` parameter to control this behavior.\n",
      "  _warn_prf(average, modifier, msg_start, len(result))\n"
     ]
    }
   ],
   "source": [
    "print(classification_report(y_test, y_pred))"
   ]
  },
  {
   "cell_type": "code",
   "execution_count": 32,
   "id": "786cc4b6",
   "metadata": {},
   "outputs": [
    {
     "data": {
      "text/plain": [
       "['position_model.pkl']"
      ]
     },
     "execution_count": 32,
     "metadata": {},
     "output_type": "execute_result"
    }
   ],
   "source": [
    "joblib.dump(model_query, 'position_model.pkl')"
   ]
  },
  {
   "cell_type": "code",
   "execution_count": 33,
   "id": "6f2931b7",
   "metadata": {},
   "outputs": [
    {
     "data": {
      "text/plain": [
       "['position_vectorizer.pkl']"
      ]
     },
     "execution_count": 33,
     "metadata": {},
     "output_type": "execute_result"
    }
   ],
   "source": [
    "joblib.dump(vectorizer, 'position_vectorizer.pkl')"
   ]
  }
 ],
 "metadata": {
  "kernelspec": {
   "display_name": "Python 3 (ipykernel)",
   "language": "python",
   "name": "python3"
  },
  "language_info": {
   "codemirror_mode": {
    "name": "ipython",
    "version": 3
   },
   "file_extension": ".py",
   "mimetype": "text/x-python",
   "name": "python",
   "nbconvert_exporter": "python",
   "pygments_lexer": "ipython3",
   "version": "3.11.5"
  }
 },
 "nbformat": 4,
 "nbformat_minor": 5
}
